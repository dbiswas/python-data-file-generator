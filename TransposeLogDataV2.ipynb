{
 "cells": [
  {
   "cell_type": "code",
   "execution_count": null,
   "id": "a29d382f",
   "metadata": {},
   "outputs": [],
   "source": [
    "# ---------------------------------\n",
    "# Import requirement modules\n",
    "# ---------------------------------\n",
    "import pandas as pd\n",
    "import numpy as np\n",
    "import time\n",
    "import datetime as dt"
   ]
  },
  {
   "cell_type": "code",
   "execution_count": null,
   "id": "d8e57c28",
   "metadata": {},
   "outputs": [],
   "source": [
    "lineCounter = 0\n",
    "readNextLine = False\n",
    "string2Match = \"Business Partner\"\n",
    "with open(\"Data/Raw-Small-Data-Text-file.txt\",'r') as rawData:\n",
    "    # read the file with a for loop\n",
    "    for line in rawData:\n",
    "        lineCounter = lineCounter + 1\n",
    "        # strip the newline character from the line\n",
    "        if bool(line.strip()):\n",
    "            if readNextLine:\n",
    "                with open('Data/Output-Analysis.txt', 'a') as opened_file:\n",
    "                    print(\"Line{}: {}\".format(lineCounter, line.strip()))\n",
    "                    opened_file.write(line.strip() + \"\\n\")\n",
    "                    readNextLine = False\n",
    "                    continue\n",
    "            if string2Match in line.strip():\n",
    "                with open('Data/Output-Analysis.txt', 'a') as opened_file:\n",
    "                    opened_file.write(line.strip() + \"\\t\")\n",
    "                    print(\"Line{}: {}\".format(lineCounter, line.strip()))\n",
    "                    readNextLine = True"
   ]
  },
  {
   "cell_type": "code",
   "execution_count": null,
   "id": "4e122cf1",
   "metadata": {},
   "outputs": [],
   "source": []
  }
 ],
 "metadata": {
  "kernelspec": {
   "display_name": "Python 3",
   "language": "python",
   "name": "python3"
  },
  "language_info": {
   "codemirror_mode": {
    "name": "ipython",
    "version": 3
   },
   "file_extension": ".py",
   "mimetype": "text/x-python",
   "name": "python",
   "nbconvert_exporter": "python",
   "pygments_lexer": "ipython3",
   "version": "3.9.5"
  }
 },
 "nbformat": 4,
 "nbformat_minor": 5
}
