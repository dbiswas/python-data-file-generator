{
 "cells": [
  {
   "cell_type": "code",
   "execution_count": 31,
   "id": "3c1f7009",
   "metadata": {},
   "outputs": [],
   "source": [
    "# ---------------------------------\n",
    "# Import requirement modules\n",
    "# ---------------------------------\n",
    "import xlwings as xw\n",
    "import pandas as pd\n",
    "import numpy as np\n",
    "import time\n",
    "import datetime as dt\n",
    "import requests\n",
    "import json\n",
    "import urllib3\n",
    "from pathlib import Path\n"
   ]
  },
  {
   "cell_type": "code",
   "execution_count": 32,
   "id": "1c219788",
   "metadata": {},
   "outputs": [],
   "source": [
    "# -----------------------------------------\n",
    "# Some Initial variable for the application\n",
    "# -----------------------------------------\n",
    "numberOfRecordsInEachFile = 100\n",
    "fileNameStartWith = 'AMG-'\n"
   ]
  },
  {
   "cell_type": "code",
   "execution_count": 33,
   "id": "1f61d6ba",
   "metadata": {},
   "outputs": [],
   "source": [
    "def createINITrecord(INIT_BPKIND, INIT_BU_GROUP, INIT_BU_RLTYP, INIT_BU_TYPE, INIT_MUSTER_KUN, INIT_PARTNER):\n",
    "    v_INIT_record_formatted = f'{INIT_BPKIND}\\t{INIT_BU_GROUP}\\t{INIT_BU_RLTYP}\\t{INIT_BU_TYPE}\\t{INIT_MUSTER_KUN}\\t{INIT_PARTNER}'\n",
    "    return v_INIT_record_formatted"
   ]
  },
  {
   "cell_type": "code",
   "execution_count": 34,
   "id": "a613a440",
   "metadata": {},
   "outputs": [],
   "source": [
    "def createBUT000record(INIT_BPKIND, INIT_BU_GROUP, INIT_BU_RLTYP, INIT_BU_TYPE, INIT_MUSTER_KUN, INIT_PARTNER):\n",
    "    v_INIT_record_formatted = f'{INIT_BPKIND}\\t{INIT_BU_GROUP}\\t{INIT_BU_RLTYP}\\t{INIT_BU_TYPE}\\t{INIT_MUSTER_KUN}\\t{INIT_PARTNER}'\n",
    "    return v_INIT_record_formatted"
   ]
  },
  {
   "cell_type": "code",
   "execution_count": 35,
   "id": "ff4562e2",
   "metadata": {},
   "outputs": [],
   "source": [
    "def createBUT020record(INIT_BPKIND, INIT_BU_GROUP, INIT_BU_RLTYP, INIT_BU_TYPE, INIT_MUSTER_KUN, INIT_PARTNER):\n",
    "    v_INIT_record_formatted = f'{INIT_BPKIND}\\t{INIT_BU_GROUP}\\t{INIT_BU_RLTYP}\\t{INIT_BU_TYPE}\\t{INIT_MUSTER_KUN}\\t{INIT_PARTNER}'\n",
    "    return v_INIT_record_formatted"
   ]
  },
  {
   "cell_type": "code",
   "execution_count": 36,
   "id": "7b68286f",
   "metadata": {},
   "outputs": [],
   "source": [
    "def createBUT0IDrecord(INIT_BPKIND, INIT_BU_GROUP, INIT_BU_RLTYP, INIT_BU_TYPE, INIT_MUSTER_KUN, INIT_PARTNER):\n",
    "    v_INIT_record_formatted = f'{INIT_BPKIND}\\t{INIT_BU_GROUP}\\t{INIT_BU_RLTYP}\\t{INIT_BU_TYPE}\\t{INIT_MUSTER_KUN}\\t{INIT_PARTNER}'\n",
    "    return v_INIT_record_formatted"
   ]
  },
  {
   "cell_type": "code",
   "execution_count": 37,
   "id": "b2abc3d1",
   "metadata": {},
   "outputs": [],
   "source": [
    "def createENDLINErecord(INIT_BPKIND, INIT_BU_GROUP, INIT_BU_RLTYP, INIT_BU_TYPE, INIT_MUSTER_KUN, INIT_PARTNER):\n",
    "    v_INIT_record_formatted = f'{INIT_BPKIND}\\t{INIT_BU_GROUP}\\t{INIT_BU_RLTYP}\\t{INIT_BU_TYPE}\\t{INIT_MUSTER_KUN}\\t{INIT_PARTNER}'\n",
    "    return v_INIT_record_formatted"
   ]
  },
  {
   "cell_type": "code",
   "execution_count": 38,
   "id": "ce8f0634",
   "metadata": {},
   "outputs": [
    {
     "name": "stdout",
     "output_type": "stream",
     "text": [
      "Total Number of rows: 38\n"
     ]
    }
   ],
   "source": [
    "# ---------------------------------\n",
    "# Initialize workbook by reading the existing one\n",
    "# ---------------------------------\n",
    "wb = xw.Book(r'DATA-Emigall\\Emigall-BP-Source-Data.xlsx') \n",
    "# Separate and hidden Excel instance\n",
    "app = xw.App(visible=False)  \n",
    "# --------------------------------------------------\n",
    "# Reading Tab: DATATAB_1 and getting total row count\n",
    "# --------------------------------------------------\n",
    "data_info_sheet = wb.sheets['DATATAB_1']\n",
    "#this just does ctrl+shift+down\n",
    "lastcell = data_info_sheet.range(1,1).end('down').row \n",
    "#just so you know how many rows you have.\n",
    "print('Total Number of rows: {}'.format(lastcell)) \n",
    "wb.close()"
   ]
  },
  {
   "cell_type": "code",
   "execution_count": 39,
   "id": "58e962f4",
   "metadata": {},
   "outputs": [],
   "source": [
    "# --------------------------------------------------------------------------\n",
    "# Determine number of to be generated based on Number of record in each file \n",
    "# and actual number of records in excel sheet\n",
    "# --------------------------------------------------------------------------\n",
    "def determineNumberOfFiles(i_numberOfRecordsInEachFile, i_lastcell):\n",
    "    o_numberOfFiles2Generate = (i_lastcell % i_numberOfRecordsInEachFile)\n",
    "    l_quotient  = i_lastcell // i_numberOfRecordsInEachFile\n",
    "    l_mod = i_lastcell % i_numberOfRecordsInEachFile\n",
    "    if(l_mod > 0):\n",
    "        o_numberOfFiles2Generate = l_quotient + 1\n",
    "    else: \n",
    "        o_numberOfFiles2Generate = l_quotient\n",
    "    return o_numberOfFiles2Generate"
   ]
  },
  {
   "cell_type": "code",
   "execution_count": 40,
   "id": "7574c801",
   "metadata": {},
   "outputs": [
    {
     "name": "stdout",
     "output_type": "stream",
     "text": [
      "Total Number of files to be generated: 1\n"
     ]
    }
   ],
   "source": [
    "numberOfFiles2Generate = determineNumberOfFiles(numberOfRecordsInEachFile, lastcell)\n",
    "print('Total Number of files to be generated: {}'.format(numberOfFiles2Generate)) "
   ]
  },
  {
   "cell_type": "code",
   "execution_count": 41,
   "id": "028a7583",
   "metadata": {},
   "outputs": [],
   "source": [
    "def extractDataChunkForFile(fromCount, toCount):\n",
    "    wb = None\n",
    "    app = None\n",
    "    data_sheet = None\n",
    "    df1 = None\n",
    "    \n",
    "    wb = xw.Book(r'DATA-Emigall\\Emigall-BP-Source-Data.xlsx') \n",
    "    # Start invisible Excel\n",
    "    app = xw.App(visible=False, add_book=False)\n",
    "    data_sheet = wb.sheets['DATATAB_1']\n",
    "    # Reading from Excel as Dataframe\n",
    "    df1 = data_sheet.range((fromCount,1),(toCount,11)).value\n",
    "    wb.close()\n",
    "    return df1"
   ]
  },
  {
   "cell_type": "code",
   "execution_count": 42,
   "id": "1a22b8ca",
   "metadata": {},
   "outputs": [
    {
     "name": "stdout",
     "output_type": "stream",
     "text": [
      "5\n",
      "EXT_ID\tINIT_BPKIND\tINIT_BU_GROUP\tINIT_BU_RLTYP\tINIT_BU_TYPE\tINIT_MUSTER_KUN\n",
      "PY001\tMCST\tOLSM\tNone\t2.0\tNone\n",
      "PY002\tMCST\tOLSM\tNone\t2.0\tNone\n",
      "PY003\tMCST\tOLSM\tNone\t2.0\tNone\n",
      "PY004\tMCST\tOLSM\tNone\t2.0\tNone\n"
     ]
    }
   ],
   "source": [
    "xdf1 = extractDataChunkForFile(1,5)\n",
    "print(len(xdf1))\n",
    "# looping\n",
    "for x in range(0, len(xdf1), 1):\n",
    "    lineToPrint = f'{xdf1[x][0]}\\t{xdf1[x][1]}\\t{xdf1[x][2]}\\t{xdf1[x][3]}\\t{xdf1[x][4]}\\t{xdf1[x][5]}'\n",
    "    # print(xdf1[x][0])\n",
    "    print(lineToPrint)"
   ]
  },
  {
   "cell_type": "code",
   "execution_count": 43,
   "id": "becb117d",
   "metadata": {},
   "outputs": [],
   "source": [
    "# ***********************************************************************\n",
    "# The parameter and it's description\n",
    "# fileName - Tells what should be the file name for the program to create\n",
    "# fromCount - It's the record number where it should start from in the input \n",
    "#             file (in this case it will be the Excel row)\n",
    "# toCount - record number where it should stop of that iteration\n",
    "# ***********************************************************************\n",
    "def createDataFileIfNotExists(fileName, iterationCount):\n",
    "    \n",
    "    # Calculate fromCount & toCount based on the iteration number\n",
    "    \n",
    "    fromCount = None\n",
    "    toCount = None\n",
    "    \n",
    "    if (numberOfRecordsInEachFile >= lastcell):\n",
    "        fromCount = 1\n",
    "        toCount = lastcell\n",
    "    else:\n",
    "        if (iterationCount == 1):\n",
    "            fromCount = 1\n",
    "            toCount = numberOfRecordsInEachFile\n",
    "        elif (iterationCount == numberOfFiles2Generate):\n",
    "            fromCount = (numberOfRecordsInEachFile * (iterationCount - 1)) + 1\n",
    "            toCount = lastcell\n",
    "        else:\n",
    "            fromCount = (numberOfRecordsInEachFile * (iterationCount - 1) + 1)\n",
    "            toCount = (fromCount + numberOfRecordsInEachFile) -1\n",
    "            \n",
    "    print('The current count block is: {} & {} and I am in iteration {} & number of file to generate is: {}'.format(fromCount,toCount,iterationCount,numberOfFiles2Generate)) \n",
    "    \n",
    "    \n",
    "    f_content_new_line = \"\\n\"\n",
    "    with open(fileName,'w') as f:\n",
    "        \n",
    "        xdf1 = extractDataChunkForFile(fromCount+1,toCount)\n",
    "        print(len(xdf1))\n",
    "        # looping\n",
    "        for x in range(0, len(xdf1), 1):\n",
    "            lineToPrint = f'{xdf1[x][0]}\\t{xdf1[x][1]}\\t{xdf1[x][2]}\\t{xdf1[x][3]}\\t{xdf1[x][4]}\\t{xdf1[x][5]}'\n",
    "            f_content = lineToPrint\n",
    "            f.write(f_content)\n",
    "            f.write(f_content_new_line)\n",
    "            f_content = \"Dipankar Biswas Test 2\"\n",
    "            f.write(f_content)\n",
    "            f.write(f_content_new_line)\n",
    "            f_content_INIT = createINITrecord('INIT', xdf1[x][0], xdf1[x][1], xdf1[x][2], xdf1[x][3], xdf1[x][4])\n",
    "            f.write(str(f_content_INIT))\n",
    "            f.write(f_content_new_line)\n",
    "            f_content_BUT000 = createBUT000record('BUT000', xdf1[x][0], xdf1[x][1], xdf1[x][2], xdf1[x][3], xdf1[x][4])\n",
    "            f.write(str(f_content_BUT000))\n",
    "            f.write(f_content_new_line)\n",
    "            f_content_BUT020 = createBUT020record('BUT020', xdf1[x][0], xdf1[x][1], xdf1[x][2], xdf1[x][3], xdf1[x][4])\n",
    "            f.write(str(f_content_BUT020))\n",
    "            f.write(f_content_new_line)\n",
    "            f_content_BUT0ID = createBUT0IDrecord('BUT0ID', xdf1[x][0], xdf1[x][1], xdf1[x][2], xdf1[x][3], xdf1[x][4])\n",
    "            f.write(str(f_content_BUT0ID))\n",
    "            f.write(f_content_new_line)\n",
    "            f_content_ENDE = createENDLINErecord('&ENDE', xdf1[x][0], xdf1[x][1], xdf1[x][2], xdf1[x][3], xdf1[x][4])\n",
    "            f.write(str(f_content_ENDE))\n",
    "            f.write(f_content_new_line)\n",
    "        return f.mode"
   ]
  },
  {
   "cell_type": "code",
   "execution_count": 44,
   "id": "49c05200",
   "metadata": {},
   "outputs": [
    {
     "name": "stdout",
     "output_type": "stream",
     "text": [
      "The current count block is: 1 & 38 and I am in iteration 1 & number of file to generate is: 1\n",
      "37\n",
      "w\n"
     ]
    }
   ],
   "source": [
    "# ---------------------------------\n",
    "# Program logic:\n",
    "# 1. Create the function which is responsible for creating the data file with a file name being passed.\n",
    "# 2. Create a function which is responsible for creating the Header data into the data file.\n",
    "# 3. Create a function which will create the Line items for BUT000\n",
    "# 4. Create a function which will create the Line items for BUT0ID\n",
    "# 5. Create a function which will create the Line items for Ending line item.\n",
    "# ---------------------------------\n",
    "# Call this file creation in a loop based on variable: numberOfFiles2Generate\n",
    "# Dynamically determine number of file to be generated by first reading all the record count from the file and then \n",
    "# divide it by number defined in variable numberOfRecordsInEachFile.\n",
    "\n",
    "# myResponse = createDataFileIfNotExists('DATA-Emigall\\emigall-1.txt')\n",
    "# Looping ...\n",
    "# range(start, stop, step)\n",
    "#\n",
    "\n",
    "for x in range(0, numberOfFiles2Generate, 1):\n",
    "    myResponse = createDataFileIfNotExists('DATA-Emigall\\{}emigall-{}.txt'.format(fileNameStartWith, x+1), x+1)\n",
    "    print(myResponse)"
   ]
  },
  {
   "cell_type": "code",
   "execution_count": 45,
   "id": "b578c370",
   "metadata": {
    "scrolled": true
   },
   "outputs": [],
   "source": [
    "# ---------------------------------\n",
    "# Initialize workbook by reading the existing one\n",
    "# ---------------------------------\n",
    "wb = xw.Book(r'DATA-Emigall\\Emigall-BP-Source-Data.xlsx') \n",
    "app = xw.App(visible=False)  # Separate and hidden Excel instancetable_1_sheet = wb.sheets['DATATAB_1']\n",
    "# ---------------------------------\n",
    "# Reading Tab: DATATAB_1\n",
    "# ---------------------------------\n",
    "data_sheet = wb.sheets['DATATAB_1']\n",
    "# Reading from Excel as Dataframe\n",
    "df1 = data_sheet['A1'].expand().options(pd.DataFrame, chunksize=1000).value\n",
    "# df1\n",
    "wb.close()"
   ]
  }
 ],
 "metadata": {
  "kernelspec": {
   "display_name": "Python 3",
   "language": "python",
   "name": "python3"
  },
  "language_info": {
   "codemirror_mode": {
    "name": "ipython",
    "version": 3
   },
   "file_extension": ".py",
   "mimetype": "text/x-python",
   "name": "python",
   "nbconvert_exporter": "python",
   "pygments_lexer": "ipython3",
   "version": "3.9.5"
  }
 },
 "nbformat": 4,
 "nbformat_minor": 5
}
